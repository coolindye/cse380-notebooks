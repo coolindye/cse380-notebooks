{
  "nbformat": 4,
  "nbformat_minor": 0,
  "metadata": {
    "colab": {
      "name": "Copy of about_not_so_basic_probability_theory.ipynb",
      "provenance": [],
      "include_colab_link": true
    },
    "kernelspec": {
      "name": "python3",
      "display_name": "Python 3"
    }
  },
  "cells": [
    {
      "cell_type": "markdown",
      "metadata": {
        "id": "view-in-github",
        "colab_type": "text"
      },
      "source": [
        "<a href=\"https://colab.research.google.com/github/coolindye/cse380-notebooks/blob/master/Copy_of_about_not_so_basic_probability_theory.ipynb\" target=\"_parent\"><img src=\"https://colab.research.google.com/assets/colab-badge.svg\" alt=\"Open In Colab\"/></a>"
      ]
    },
    {
      "cell_type": "markdown",
      "metadata": {
        "id": "ACrVCM493Pnw"
      },
      "source": [
        "# About Not So Basic Probability Theory\n",
        "## Divide Pair Conquer\n",
        "### Due: Monday, 8 February 2021"
      ]
    },
    {
      "cell_type": "markdown",
      "metadata": {
        "id": "efoaUD0y3jNr"
      },
      "source": [
        "## Euler's Famous Sum"
      ]
    },
    {
      "cell_type": "markdown",
      "metadata": {
        "id": "jvjMzNCd3nwC"
      },
      "source": [
        "This famous problem that no mathematician until Euler knew how to solve involves summing the reciprocals of squares:\n",
        "$$\\sum^{\\infty}_{n=1} \\frac{1}{n^2} = \\left(\\frac{1}{1} + \\frac{1}{4} + \\frac{1}{9} + \\frac{1}{16} + \\frac{1}{25} + \\cdots\\right)$$\n"
      ]
    },
    {
      "cell_type": "code",
      "metadata": {
        "id": "f9ve6ieC3PJL"
      },
      "source": [
        "def compute_Eulers_famous_sum(max):\n",
        "  return sum((1.0 / (n * n) for n in range(1, max + 1)))"
      ],
      "execution_count": 1,
      "outputs": []
    },
    {
      "cell_type": "code",
      "metadata": {
        "id": "kPIdwq6J4ZSK",
        "colab": {
          "base_uri": "https://localhost:8080/"
        },
        "outputId": "e4759e20-03dc-4a1e-ed51-04c871e3e777"
      },
      "source": [
        "print(list(map(compute_Eulers_famous_sum, range(1, 100))))"
      ],
      "execution_count": 2,
      "outputs": [
        {
          "output_type": "stream",
          "text": [
            "[1.0, 1.25, 1.3611111111111112, 1.4236111111111112, 1.4636111111111112, 1.4913888888888889, 1.511797052154195, 1.527422052154195, 1.5397677311665408, 1.5497677311665408, 1.558032193976458, 1.5649766384209025, 1.5708937981842162, 1.5759958390005426, 1.580440283444987, 1.584346533444987, 1.587806741057444, 1.5908931608105303, 1.5936632439130234, 1.5961632439130233, 1.5984308176091684, 1.6004969333116477, 1.6023872924798896, 1.6041234035910008, 1.6057234035910009, 1.6072026935318293, 1.6085744356443121, 1.6098499458483937, 1.6110390064904865, 1.6121501176015975, 1.6131907003279242, 1.6141672628279242, 1.6150855364734706, 1.6159505883765848, 1.616766914907197, 1.6175385198454686, 1.6182689800353882, 1.6189615008110114, 1.619618963006935, 1.6202439630069352, 1.6208388470045556, 1.621405740428592, 1.6219465733112313, 1.6224631022368512, 1.622956929397345, 1.6234295191894055, 1.623882212715888, 1.6243162404936657, 1.6247327336215291, 1.625132733621529, 1.6255172011340242, 1.6258870236192313, 1.626243022195237, 1.626585957723358, 1.6269165362357545, 1.6272354137867748, 1.627543200798163, 1.627840465958686, 1.6281277397305907, 1.6284055175083685, 1.6286742624694004, 1.628934408150982, 1.629186360783887, 1.629430501408887, 1.6296671877994195, 1.6298967562108062, 1.630119522974005, 1.6303357859497836, 1.630545825857366, 1.630749907490019, 1.6309482808286422, 1.63114118206321, 1.6313288345308399, 1.6315114495783198, 1.6316892273560977, 1.6318623575500035, 1.6320310200563284, 1.6321953856053093, 1.6323556163375637, 1.6325118663375637, 1.6326642821278397, 1.6328130031272448, 1.632958162076294, 1.6330998854323031, 1.6332382937368013, 1.6333735019574611, 1.6335056198065825, 1.6336347520379875, 1.633760998724012, 1.6338844555141354, 1.634005213876652, 1.6341233613246673, 1.6342389816275924, 1.634352155009213, 1.6344629583333128, 1.6345714652777572, 1.6346777464978657, 1.6347818697798315, 1.6348839001848923]\n"
          ],
          "name": "stdout"
        }
      ]
    },
    {
      "cell_type": "code",
      "metadata": {
        "id": "W3ZtE2Ju4Ypv",
        "colab": {
          "base_uri": "https://localhost:8080/"
        },
        "outputId": "75abd168-05ba-4d00-df5b-a8341c6fb400"
      },
      "source": [
        "print(list(map(compute_Eulers_famous_sum, range(99997, 100000))))"
      ],
      "execution_count": 3,
      "outputs": [
        {
          "output_type": "stream",
          "text": [
            "[1.6449240665982363, 1.6449240666982403, 1.6449240667982423]\n"
          ],
          "name": "stdout"
        }
      ]
    },
    {
      "cell_type": "markdown",
      "metadata": {
        "id": "IOvW78Iu4u8K"
      },
      "source": [
        "## Here's what Euler proved"
      ]
    },
    {
      "cell_type": "markdown",
      "metadata": {
        "id": "JDHQup1d-K63"
      },
      "source": [
        "The sum converges to exactly $\\frac{\\pi^2}{6}$."
      ]
    },
    {
      "cell_type": "code",
      "metadata": {
        "id": "UcwUwHx44nQ3"
      },
      "source": [
        "from math import pi\n",
        "(pi ** 2) / 6"
      ],
      "execution_count": null,
      "outputs": []
    },
    {
      "cell_type": "markdown",
      "metadata": {
        "id": "SaicA8AZ43pt"
      },
      "source": [
        "## How did he do it?"
      ]
    },
    {
      "cell_type": "markdown",
      "metadata": {
        "id": "5KyekAQt48tU"
      },
      "source": [
        "He used a **polynomial principle** --- namely, factorization.\n",
        "\n",
        "For example:\n",
        "$$P(x) = \\left[1 - x + \\frac{11x^2}{36} - \\frac{x^3}{36} \\right]$$"
      ]
    },
    {
      "cell_type": "markdown",
      "metadata": {
        "id": "fz2neYlK5c02"
      },
      "source": [
        "factors as\n",
        "\n",
        "$$\\left[\\left(1 - \\frac{x}{2}\\right)\\right] \\left[\\left(1 - \\frac{x}{3}\\right)\\right] \\left[\\left(1 - \\frac{x}{6}\\right)\\right]$$"
      ]
    },
    {
      "cell_type": "markdown",
      "metadata": {
        "id": "8id3qfuL5tYn"
      },
      "source": [
        "and hence, this **finite** polynomial has roots at 2, 3, and 6."
      ]
    },
    {
      "cell_type": "markdown",
      "metadata": {
        "id": "phGcwuNk55wU"
      },
      "source": [
        "## Using Trigonmetry and Calculus"
      ]
    },
    {
      "cell_type": "markdown",
      "metadata": {
        "id": "kUgmgj4W_OWo"
      },
      "source": [
        "Euler claimed the same principle applies to **infinite** polynomials, e.g.:\n",
        "$$sin(x) = x - \\frac{x^3}{3!} + \\frac{x^5}{5!} - \\frac{x^7}{7!} \\pm \\cdots$$"
      ]
    },
    {
      "cell_type": "markdown",
      "metadata": {
        "id": "vVa2m-C36P_0"
      },
      "source": [
        "## And if x does not equal zero:"
      ]
    },
    {
      "cell_type": "markdown",
      "metadata": {
        "id": "DOsiP4CR_TZj"
      },
      "source": [
        "$$\\frac{sin(x)}{x} = 1 - \\frac{x^2}{3!} + \\frac{x^4}{5!} - \\frac{x^6}{7!} \\pm \\cdots$$"
      ]
    },
    {
      "cell_type": "markdown",
      "metadata": {
        "id": "1FT5JIy3_Wyz"
      },
      "source": [
        "## which equals"
      ]
    },
    {
      "cell_type": "markdown",
      "metadata": {
        "id": "UvGa5r636cnu"
      },
      "source": [
        "$$\\left[\\left(1 - \\frac{x}{\\pi}\\right)\\left(1 - \\frac{x}{-\\pi}\\right)\\right] \\left[\\left(1 - \\frac{x}{2\\pi}\\right)\\left(1 - \\frac{x}{-2\\pi}\\right)\\right] \\left[\\left(1 - \\frac{x}{3\\pi}\\right)\\left(1 - \\frac{x}{-3\\pi}\\right)\\right] \\cdots$$\n",
        "\n",
        "which"
      ]
    },
    {
      "cell_type": "markdown",
      "metadata": {
        "id": "nKtZKPkP_bPw"
      },
      "source": [
        "## in turn equals"
      ]
    },
    {
      "cell_type": "markdown",
      "metadata": {
        "id": "yQtoee3q6pJP"
      },
      "source": [
        "$$\\left[\\left(1 - \\frac{x}{\\pi}\\right)\\left(1 + \\frac{x}{\\pi}\\right)\\right] \\left[\\left(1 - \\frac{x}{2\\pi}\\right)\\left(1 + \\frac{x}{2\\pi}\\right)\\right] \\left[\\left(1 - \\frac{x}{3\\pi}\\right)\\left(1 + \\frac{x}{3\\pi}\\right)\\right] \\cdots$$\n",
        "\n"
      ]
    },
    {
      "cell_type": "markdown",
      "metadata": {
        "id": "W-TPO5Xe_hb7"
      },
      "source": [
        "## which equals"
      ]
    },
    {
      "cell_type": "markdown",
      "metadata": {
        "id": "bu1ZhGq06vUv"
      },
      "source": [
        "$$\\left[\\left(1 - \\frac{x^2}{\\pi^2}\\right)\\right] \\left[\\left(1 - \\frac{x^2}{4\\pi^2}\\right)\\right] \\left[\\left(1 - \\frac{x^2}{9\\pi^2}\\right)\\right]\\cdots$$"
      ]
    },
    {
      "cell_type": "markdown",
      "metadata": {
        "id": "nbJKZP9F_pt5"
      },
      "source": [
        "## which equals"
      ]
    },
    {
      "cell_type": "markdown",
      "metadata": {
        "id": "r5SFwwGX68kV"
      },
      "source": [
        "$$\\left[1 - x^2 \\left(\\frac{1}{\\pi^2} + \\frac{1}{4\\pi^2} + \\frac{1}{9\\pi^2} + \\frac{1}{16\\pi^2} + \\cdots \\right)\\right] + \\mbox{stuff}$$"
      ]
    },
    {
      "cell_type": "markdown",
      "metadata": {
        "id": "4m_irxwv_uVN"
      },
      "source": [
        "## which equals"
      ]
    },
    {
      "cell_type": "markdown",
      "metadata": {
        "id": "S6hnLqv-7W52"
      },
      "source": [
        "$$\\left[1 - \\frac{x^2}{\\pi^2} \\left(\\frac{1}{1} + \\frac{1}{4} + \\frac{1}{9} + \\frac{1}{16} + \\cdots \\right)\\right] + \\mbox{stuff}$$"
      ]
    },
    {
      "cell_type": "markdown",
      "metadata": {
        "id": "0Z_yGvbT_x2M"
      },
      "source": [
        "## and therefore"
      ]
    },
    {
      "cell_type": "markdown",
      "metadata": {
        "id": "uhWJ_gDv7etz"
      },
      "source": [
        "$$1 - \\frac{x^2}{6} = 1 - \\frac{x^2}{\\pi^2} \\left(\\frac{1}{1} + \\frac{1}{4} + \\frac{1}{9} + \\frac{1}{16} + \\cdots \\right)$$"
      ]
    },
    {
      "cell_type": "markdown",
      "metadata": {
        "id": "R1fZFubR_1RD"
      },
      "source": [
        "## and hence"
      ]
    },
    {
      "cell_type": "markdown",
      "metadata": {
        "id": "ariFZHjs7qF_"
      },
      "source": [
        "$$\\left(\\frac{1}{1} + \\frac{1}{4} + \\frac{1}{9} + \\frac{1}{16} + \\cdots \\right) = \\frac{\\pi^2}{6}.$$\n",
        "\n",
        "**Do you see it?!**"
      ]
    },
    {
      "cell_type": "markdown",
      "metadata": {
        "id": "IJ02KntJ71Nu"
      },
      "source": [
        "## More Surprises in Store"
      ]
    },
    {
      "cell_type": "markdown",
      "metadata": {
        "id": "a-19BLVJ77uW"
      },
      "source": [
        "### Coprime Probability\n",
        "What is the probability that two randomly chosen positive integers will be coprime?\n",
        "\n",
        "Recall the definition of *coprime*, or *relatively prime*. Two numbers are coprime if their greatest common divisor is 1, as is the case with any two *prime* numbers.\n",
        "\n",
        "A prime, $p$, is coprime with any other positive integer that is not a multiple of $p$.\n"
      ]
    },
    {
      "cell_type": "markdown",
      "metadata": {
        "id": "37EiiYD18aKS"
      },
      "source": [
        "### But does at least one of the two numbers have to be prime for the two of them to be coprime?\n"
      ]
    },
    {
      "cell_type": "markdown",
      "metadata": {
        "id": "c56idbBJ8oQZ"
      },
      "source": [
        "No. 8 and 9 have a GCD of 1, so they are coprime even though neither of them is prime."
      ]
    },
    {
      "cell_type": "markdown",
      "metadata": {
        "id": "ab2VL1Tb9Dpu"
      },
      "source": [
        "### Can we compute that probability?"
      ]
    },
    {
      "cell_type": "markdown",
      "metadata": {
        "id": "MoKlle0q9eei"
      },
      "source": [
        "Yes, and it won't take 24 hours to do it!"
      ]
    },
    {
      "cell_type": "code",
      "metadata": {
        "id": "HjSmHb3-9BAo",
        "colab": {
          "base_uri": "https://localhost:8080/"
        },
        "outputId": "bda995f9-87f9-45ba-ebd5-8243aeffd2d0"
      },
      "source": [
        "from math import gcd\n",
        "\n",
        "for power in range(1, 2): # change 2 to 3 then 4.\n",
        "  max = 10 ** power\n",
        "  total = 0\n",
        "  for m in range(1, max + 1):\n",
        "    for n in range(1, max + 1):\n",
        "      total += 1 if gcd(m, n) == 1 else 0\n",
        "\n",
        "total"
      ],
      "execution_count": 4,
      "outputs": [
        {
          "output_type": "execute_result",
          "data": {
            "text/plain": [
              "63"
            ]
          },
          "metadata": {
            "tags": []
          },
          "execution_count": 4
        }
      ]
    },
    {
      "cell_type": "markdown",
      "metadata": {
        "id": "tFUIkFBo9tMY"
      },
      "source": [
        "## The Euler Connection"
      ]
    },
    {
      "cell_type": "code",
      "metadata": {
        "colab": {
          "base_uri": "https://localhost:8080/"
        },
        "id": "i0ho9BDc94_5",
        "outputId": "81a72f1e-e477-4606-c0a8-82aeaa54749b"
      },
      "source": [
        "from math import pi\n",
        "6 / (pi ** 2)"
      ],
      "execution_count": null,
      "outputs": [
        {
          "output_type": "execute_result",
          "data": {
            "text/plain": [
              "0.6079271018540267"
            ]
          },
          "metadata": {
            "tags": []
          },
          "execution_count": 21
        }
      ]
    },
    {
      "cell_type": "markdown",
      "metadata": {
        "id": "QdQObWbZ9vuR"
      },
      "source": [
        "### What? How??"
      ]
    },
    {
      "cell_type": "markdown",
      "metadata": {
        "id": "bi9hBXLlAfkV"
      },
      "source": [
        "From Donald Knuth's *The Art of Computer Programming* section 4.5.2:\n",
        "\n",
        "The theorem, originally published and proven by Lejeune Dirichlet, says:\n",
        "\n",
        "If $u$ and $v$ are integers chosen at random, the probability that $gcd(u, v) = 1$ is $$\\frac{6}{\\pi^2} \\approx 0.60793.$$"
      ]
    },
    {
      "cell_type": "markdown",
      "metadata": {
        "id": "FqU2EjnSBI-g"
      },
      "source": [
        "## Hand Waving Proof"
      ]
    },
    {
      "cell_type": "markdown",
      "metadata": {
        "id": "iSZHVub0BNrQ"
      },
      "source": [
        "A precise formulation of this theorem, which carefully defines what is meant by being \"chosen at random\", [needs a rigorous proof]. Let us content ourselves here with a heuristic argument that shows why the theorem is plausible."
      ]
    },
    {
      "cell_type": "markdown",
      "metadata": {
        "id": "KJ-B_1b6Be1U"
      },
      "source": [
        "### Assumption"
      ]
    },
    {
      "cell_type": "markdown",
      "metadata": {
        "id": "JAsyEj5iBgZt"
      },
      "source": [
        "If we assume, without proof, the existence of a well-defined probability $p$ that $gcd(u, v)$ equals unity, then we can determine the probability that $gcd(u, v) = d$ for any positive integer $d$."
      ]
    },
    {
      "cell_type": "markdown",
      "metadata": {
        "id": "jIZdfCjZBtcG"
      },
      "source": [
        "#### Why?"
      ]
    },
    {
      "cell_type": "markdown",
      "metadata": {
        "id": "KMToJVu6BvbM"
      },
      "source": [
        "Because $gcd(u, v) = d$\n",
        "\n",
        "if and only if\n",
        "\n",
        "$u$ is a multiple of $d$ [i.e., $d$ is a divisor of $u$]\n",
        "\n",
        "and\n",
        "\n",
        "$v$ is a multiple of $d$ [i.e., $d$ is a divisor of $v$]\n",
        "\n",
        "and\n",
        "\n",
        "$gcd(u/d, v/d) = 1$.\n"
      ]
    },
    {
      "cell_type": "markdown",
      "metadata": {
        "id": "byTy54ssCD3s"
      },
      "source": [
        "### Which means?"
      ]
    },
    {
      "cell_type": "markdown",
      "metadata": {
        "id": "UXkeFbu9CGGZ"
      },
      "source": [
        " Thus the probability that $gcd(u, v) = d$ is equal to $1/d$ times $1/d$ times $p$, namely $p/d^2$."
      ]
    },
    {
      "cell_type": "markdown",
      "metadata": {
        "id": "FisS0xxJCPxJ"
      },
      "source": [
        "### And so?"
      ]
    },
    {
      "cell_type": "markdown",
      "metadata": {
        "id": "zweU6r8TCRta"
      },
      "source": [
        "Now let us sum these probabilities over all possible values of $d$; we should get\n",
        "$$1 = \\sum_{d \\ge 1} \\frac{p}{d^2} = p\\left(\\frac{1}{1} + \\frac{1}{4} + \\frac{1}{9} + \\frac{1}{16} + \\cdots\\right).$$\n"
      ]
    },
    {
      "cell_type": "markdown",
      "metadata": {
        "id": "pGbAXCe2C0XB"
      },
      "source": [
        "### Got it!!"
      ]
    },
    {
      "cell_type": "markdown",
      "metadata": {
        "id": "XicPOuWdC21w"
      },
      "source": [
        "Since the sum $$\\left(\\frac{1}{1} + \\frac{1}{4} + \\frac{1}{9} + \\frac{1}{16} + \\cdots\\right)$$ is equal to $$\\frac{\\pi^2}{6},$$ we need $$p = \\frac{6}{\\pi^2}$$ in order to make this equation come out right."
      ]
    },
    {
      "cell_type": "markdown",
      "metadata": {
        "id": "oQWLy8AnEUsz"
      },
      "source": [
        "# TODO Deduce Some Properties of Probabilities\n"
      ]
    },
    {
      "cell_type": "markdown",
      "metadata": {
        "id": "14Uc-EiVEcYN"
      },
      "source": [
        "## Now for your DPC task:\n",
        "Remember that probability distributions satisfy two conditions:\n",
        "\n",
        "\n",
        "1. $0 \\le P(s) \\le 1$ for each $s \\in S$, and\n",
        "2. $\\sum_{s \\in S} P(s) = 1$.\n",
        "\n",
        "Knowing these two conditions and how the $s$ events partition the probability space $S$, we can infer these three additional facts:\n",
        "\n",
        "1. For the **complementary** event, $P(\\overline{s}) = 1 - P(s)$.\n",
        "2. For the **union** of two events (either one of both happen), $P(E \\cup F) = P(E) + P(F) - P(E \\cap F)$.\n",
        "3. For **independent events**, $P(E \\cap F) = P(E)P(F)$.\n",
        "\n",
        "Furthermore, the probability of the union of two independent events is the sum of the probabilities of the two events minus the product of their probabilities.\n",
        "\n",
        "Given the above, what can you say about the probability of the union of two **mutually exclusive** events? What is the formula for that?\n",
        "\n",
        "\n",
        "\n"
      ]
    },
    {
      "cell_type": "code",
      "metadata": {
        "id": "YwRxNMwUyP69"
      },
      "source": [
        " ###P(A|B)??\r\n",
        "  P(A and B) = 0\r\n",
        "  P(A or B) = P(A) + P(B)\r\n",
        "# "
      ],
      "execution_count": 4,
      "outputs": []
    },
    {
      "cell_type": "code",
      "metadata": {
        "id": "1tc0chik1-7q"
      },
      "source": [
        ""
      ],
      "execution_count": null,
      "outputs": []
    }
  ]
}