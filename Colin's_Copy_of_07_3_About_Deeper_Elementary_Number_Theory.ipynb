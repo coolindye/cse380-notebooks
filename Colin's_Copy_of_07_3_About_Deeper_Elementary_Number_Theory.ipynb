{
  "nbformat": 4,
  "nbformat_minor": 0,
  "metadata": {
    "colab": {
      "name": "Colin's Copy of  07_3_About_Deeper_Elementary_Number_Theory.ipynb",
      "provenance": [],
      "include_colab_link": true
    },
    "kernelspec": {
      "name": "python3",
      "display_name": "Python 3"
    }
  },
  "cells": [
    {
      "cell_type": "markdown",
      "metadata": {
        "id": "view-in-github",
        "colab_type": "text"
      },
      "source": [
        "<a href=\"https://colab.research.google.com/github/coolindye/cse380-notebooks/blob/master/Colin's_Copy_of_07_3_About_Deeper_Elementary_Number_Theory.ipynb\" target=\"_parent\"><img src=\"https://colab.research.google.com/assets/colab-badge.svg\" alt=\"Open In Colab\"/></a>"
      ]
    },
    {
      "cell_type": "markdown",
      "metadata": {
        "id": "fKBSJ5Hh6UMv"
      },
      "source": [
        "# About Deeper Elementary Number Theory\n",
        "## Class Directed Learning\n",
        "### Due: Wednesday, 17 February 2021, 11:59 pm"
      ]
    },
    {
      "cell_type": "markdown",
      "metadata": {
        "id": "yx-XMrWE6hEw"
      },
      "source": [
        "## Read and Ponder\n",
        "https://byui-cse.github.io/cse380-course/about-deeper-elementary-number-theory.pdf\n",
        "\n",
        "Put your answers in cells you will add below.\n",
        "\n",
        "Above and beyond behavior: Incorporate the material in the PDF into this notebook."
      ]
    },
    {
      "cell_type": "markdown",
      "metadata": {
        "id": "Y0U7TSOmI3uI"
      },
      "source": [
        "The page I foound below really helped me understand Fermat's Little Theroem given the visuzlizations it used.\r\n",
        "\r\n",
        "https://artofproblemsolving.com/wiki/index.php/Fermat%27s_Little_Theorem \r\n",
        "\r\n",
        "We know by the prime number theorem that there are approximately x / ln(x) prime numbers that are less than or equal to x. Furthermore, there are a total of x positive integers less than or equal to x. Therefore the probability that a randomly selected number in this range is prime is (x / ln(x) ) /x = 1 / ln(x).\r\n",
        "\r\n",
        "In a given range of a billion integers the probability would be 1/ln(1,000,000,000) which is approximately 0.0483.\r\n",
        "\r\n",
        "In a given range of a thousand integers the probability would be 1/ln(1,000) which is approximately 0.1448.\r\n",
        "\r\n",
        "In a given range of a hundred integers the probability would be 1/ln(100) which is approximately 0.2171.\r\n",
        "\r\n",
        "It appears that the closer the limit gets to the infinite range the lower the probility of randomly selecting a prime becomes. And converserly the higher the probability gets the lower the range.\r\n",
        "\r\n",
        "This website also help me discern new ideas regarding the prime number theroem. \r\n",
        "\r\n",
        "https://mathworld.wolfram.com/PrimeNumberTheorem.html "
      ]
    }
  ]
}