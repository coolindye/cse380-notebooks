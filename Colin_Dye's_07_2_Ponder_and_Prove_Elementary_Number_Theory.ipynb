{
  "nbformat": 4,
  "nbformat_minor": 0,
  "metadata": {
    "kernelspec": {
      "display_name": "Python 3",
      "language": "python",
      "name": "python3"
    },
    "language_info": {
      "codemirror_mode": {
        "name": "ipython",
        "version": 3
      },
      "file_extension": ".py",
      "mimetype": "text/x-python",
      "name": "python",
      "nbconvert_exporter": "python",
      "pygments_lexer": "ipython3",
      "version": "3.9.0"
    },
    "colab": {
      "name": "Colin Dye's 07_2_Ponder_and_Prove_Elementary_Number_Theory.ipynb",
      "provenance": [],
      "include_colab_link": true
    }
  },
  "cells": [
    {
      "cell_type": "markdown",
      "metadata": {
        "id": "view-in-github",
        "colab_type": "text"
      },
      "source": [
        "<a href=\"https://colab.research.google.com/github/coolindye/cse380-notebooks/blob/master/Colin_Dye's_07_2_Ponder_and_Prove_Elementary_Number_Theory.ipynb\" target=\"_parent\"><img src=\"https://colab.research.google.com/assets/colab-badge.svg\" alt=\"Open In Colab\"/></a>"
      ]
    },
    {
      "cell_type": "markdown",
      "metadata": {
        "id": "1rG4k7VvQ2WT"
      },
      "source": [
        "# Ponder and Prove Elementary Number Theory\n",
        "#### Due: Saturday, 20 February 2021, 11:59 pm."
      ]
    },
    {
      "cell_type": "markdown",
      "metadata": {
        "id": "W0WxE3IAQ2WU"
      },
      "source": [
        "## Explore Fermat's Little Theorem Further\n"
      ]
    },
    {
      "cell_type": "markdown",
      "metadata": {
        "id": "w2vby9erSjOv"
      },
      "source": [
        "Fermat's Little Theorem (FLT) says that if $N$ is prime, then $N$ divides $X^N - X$.\n",
        "\n",
        "Remember, the contrapositive of the conditional statement in this theorem is that if $N$ **doesn't** divide $X^N - X$ for some $X$, then $N$ **can't** be prime.\n",
        "\n",
        "Unfortunately, this simple primality test doesn't always work, because it can be fooled by **pseudoprimes**.\n",
        "\n",
        "For example, $341 = 11 \\cdot 31$ is not prime. But $341$ **does** divide $2^{341} - 2$ as verified below:"
      ]
    },
    {
      "cell_type": "code",
      "metadata": {
        "id": "NBrPMgZoTLAe",
        "colab": {
          "base_uri": "https://localhost:8080/"
        },
        "outputId": "f7a2d48f-7d1d-44c5-d136-736594667a88"
      },
      "source": [
        "((2 ** 341) - 2) % 341"
      ],
      "execution_count": 1,
      "outputs": [
        {
          "output_type": "execute_result",
          "data": {
            "text/plain": [
              "0"
            ]
          },
          "metadata": {
            "tags": []
          },
          "execution_count": 1
        }
      ]
    },
    {
      "cell_type": "markdown",
      "metadata": {
        "id": "igGoVqAOTTm_"
      },
      "source": [
        "So $341$ is a so-called **base-2 pseudoprime**. What about **base-3**?"
      ]
    },
    {
      "cell_type": "code",
      "metadata": {
        "id": "hwrSZ1xDTVxW",
        "colab": {
          "base_uri": "https://localhost:8080/"
        },
        "outputId": "e592a9d7-87b6-49ff-e786-fde0562a5c3e"
      },
      "source": [
        "((3 ** 341) - 3) % 341"
      ],
      "execution_count": 2,
      "outputs": [
        {
          "output_type": "execute_result",
          "data": {
            "text/plain": [
              "165"
            ]
          },
          "metadata": {
            "tags": []
          },
          "execution_count": 2
        }
      ]
    },
    {
      "cell_type": "markdown",
      "metadata": {
        "id": "sc9w28MiTZXk"
      },
      "source": [
        "Check that the result is not zero, therefore $341$ is **not** a **base-3 pseudoprime**.\n",
        "\n",
        "Are there any other bases that will not fool the FLT test for $341$?\n",
        "\n",
        "Are there any pseudoprimes that will fool the FLT for **any choice** of base coprime to them?"
      ]
    },
    {
      "cell_type": "markdown",
      "metadata": {
        "id": "AMFTYECVTgy4"
      },
      "source": [
        "### The answer is yes."
      ]
    },
    {
      "cell_type": "markdown",
      "metadata": {
        "id": "u-CxbDylTkYp"
      },
      "source": [
        "Your task is the find the first 4-digit **bullet-proof pseudoprime** (**bppp**) and **prove** (yes, **PROVE**) that it will fool the FLT test for every base coprime to it.\n",
        "\n",
        "Your proof must use all of the following:\n",
        "1. the definition of coprime,\n",
        "2. a consequence of coprimality,\n",
        "3. the factorization of the **bppp**,\n",
        "4. FLT, and the\n",
        "5. CRT (Chinese Remainder Theorem).\n"
      ]
    },
    {
      "cell_type": "markdown",
      "metadata": {
        "id": "1z4IyXgwhdNA"
      },
      "source": [
        "The BPPP #'s are 1105, 1729, 2465, 2821. Each of these numbers are factorable yet pass Fermat's little theroem."
      ]
    },
    {
      "cell_type": "markdown",
      "metadata": {
        "id": "MFLPAZ8vgwGe"
      },
      "source": [
        "1. Definition of Coprime:\r\n",
        "In number theory, two integers a and b are coprime, relatively prime or mutually prime if the only positive integer that evenly divides both of them is 1. One says also a is prime to b or a is coprime with b. Consequently, any prime number that divides one of a or b does not divide the other. This is particular of interest to us in the exploration of the BPPP's."
      ]
    },
    {
      "cell_type": "markdown",
      "metadata": {
        "id": "-Ng8JN4Ygpsq"
      },
      "source": [
        "2. Consequence of Coprimality:\r\n",
        "One of the results of being coprime is that even though these 4 numbers are not prime in of them self, they are coprime with many integers including the ones used to test Fermat's Little Theroem."
      ]
    },
    {
      "cell_type": "markdown",
      "metadata": {
        "id": "e2_kU8XJfSXB"
      },
      "source": [
        "3. Below is the prime factorization of each BPPP"
      ]
    },
    {
      "cell_type": "code",
      "metadata": {
        "colab": {
          "base_uri": "https://localhost:8080/"
        },
        "id": "2SwqVws8fiIB",
        "outputId": "7f1cc26c-0dcd-4d58-cc62-12a314ebf0fa"
      },
      "source": [
        "from functools import reduce\r\n",
        "\r\n",
        "def factors(n):    \r\n",
        "    return set(reduce(list.__add__, \r\n",
        "                ([i, n//i] for i in range(1, int(n**0.5) + 1) if n % i == 0)))\r\n",
        "print(factors(2821))"
      ],
      "execution_count": 36,
      "outputs": [
        {
          "output_type": "stream",
          "text": [
            "{1, 2821, 7, 13, 403, 217, 91, 31}\n"
          ],
          "name": "stdout"
        }
      ]
    },
    {
      "cell_type": "code",
      "metadata": {
        "colab": {
          "base_uri": "https://localhost:8080/"
        },
        "id": "rHug_Fjvfc__",
        "outputId": "70c0e394-cdae-4a45-89fb-610065c8d86f"
      },
      "source": [
        "from functools import reduce\r\n",
        "\r\n",
        "def factors(n):    \r\n",
        "    return set(reduce(list.__add__, \r\n",
        "                ([i, n//i] for i in range(1, int(n**0.5) + 1) if n % i == 0)))\r\n",
        "print(factors(2465))"
      ],
      "execution_count": 35,
      "outputs": [
        {
          "output_type": "stream",
          "text": [
            "{1, 2465, 5, 493, 17, 145, 85, 29}\n"
          ],
          "name": "stdout"
        }
      ]
    },
    {
      "cell_type": "code",
      "metadata": {
        "colab": {
          "base_uri": "https://localhost:8080/"
        },
        "id": "yFuLQI7be27Y",
        "outputId": "4184eb14-3315-48e4-873c-6f346fb4aa10"
      },
      "source": [
        "from functools import reduce\r\n",
        "\r\n",
        "def factors(n):    \r\n",
        "    return set(reduce(list.__add__, \r\n",
        "                ([i, n//i] for i in range(1, int(n**0.5) + 1) if n % i == 0)))\r\n",
        "print(factors(1729))"
      ],
      "execution_count": 34,
      "outputs": [
        {
          "output_type": "stream",
          "text": [
            "{1, 1729, 133, 7, 13, 19, 247, 91}\n"
          ],
          "name": "stdout"
        }
      ]
    },
    {
      "cell_type": "code",
      "metadata": {
        "colab": {
          "base_uri": "https://localhost:8080/"
        },
        "id": "7uVD6zzafGmZ",
        "outputId": "de56a19d-4ae6-4ade-8989-da55b24d9f59"
      },
      "source": [
        "from functools import reduce\r\n",
        "\r\n",
        "def factors(n):    \r\n",
        "    return set(reduce(list.__add__, \r\n",
        "                ([i, n//i] for i in range(1, int(n**0.5) + 1) if n % i == 0)))\r\n",
        "print(factors(1105))"
      ],
      "execution_count": 33,
      "outputs": [
        {
          "output_type": "stream",
          "text": [
            "{1, 65, 5, 13, 1105, 17, 85, 221}\n"
          ],
          "name": "stdout"
        }
      ]
    },
    {
      "cell_type": "markdown",
      "metadata": {
        "id": "Z-Tf0KAgct9r"
      },
      "source": [
        "4. The Following is the implementation of the FLT for the given BPPP's."
      ]
    },
    {
      "cell_type": "code",
      "metadata": {
        "colab": {
          "base_uri": "https://localhost:8080/"
        },
        "id": "xf1jQpEqMHg0",
        "outputId": "94291eb0-55ac-4600-b683-be7faf08d085"
      },
      "source": [
        "((2 ** 1729)-2) % 1729"
      ],
      "execution_count": 20,
      "outputs": [
        {
          "output_type": "execute_result",
          "data": {
            "text/plain": [
              "0"
            ]
          },
          "metadata": {
            "tags": []
          },
          "execution_count": 20
        }
      ]
    },
    {
      "cell_type": "code",
      "metadata": {
        "colab": {
          "base_uri": "https://localhost:8080/"
        },
        "id": "_k8jyHTXMXJq",
        "outputId": "1bd00776-2a3b-4c2b-f390-65cfd52bd75d"
      },
      "source": [
        "((2 ** 2465) - 2) % 2465"
      ],
      "execution_count": 21,
      "outputs": [
        {
          "output_type": "execute_result",
          "data": {
            "text/plain": [
              "0"
            ]
          },
          "metadata": {
            "tags": []
          },
          "execution_count": 21
        }
      ]
    },
    {
      "cell_type": "code",
      "metadata": {
        "colab": {
          "base_uri": "https://localhost:8080/"
        },
        "id": "H2Lz5FbCMj3U",
        "outputId": "cfdb8bfa-2ac0-4cfd-eb1b-892c9891f952"
      },
      "source": [
        "((2 ** 1105) - 2) % 1105"
      ],
      "execution_count": 5,
      "outputs": [
        {
          "output_type": "execute_result",
          "data": {
            "text/plain": [
              "0"
            ]
          },
          "metadata": {
            "tags": []
          },
          "execution_count": 5
        }
      ]
    },
    {
      "cell_type": "code",
      "metadata": {
        "colab": {
          "base_uri": "https://localhost:8080/"
        },
        "id": "4xLioUNPQL6a",
        "outputId": "a80d5aa4-90fc-475b-d9c8-740031847941"
      },
      "source": [
        "((2 ** 2821) - 2) % 2821"
      ],
      "execution_count": 22,
      "outputs": [
        {
          "output_type": "execute_result",
          "data": {
            "text/plain": [
              "0"
            ]
          },
          "metadata": {
            "tags": []
          },
          "execution_count": 22
        }
      ]
    },
    {
      "cell_type": "markdown",
      "metadata": {
        "id": "l8wrb36Dc2Jw"
      },
      "source": [
        "5. This is an implementation of the chinese remainder theroem for the BPPP's"
      ]
    },
    {
      "cell_type": "code",
      "metadata": {
        "colab": {
          "base_uri": "https://localhost:8080/"
        },
        "id": "-1ynhpk2bY5e",
        "outputId": "98fde7e1-2a2c-4a02-9dca-4d4670e48773"
      },
      "source": [
        "def extended_euclidean(a, b): \r\n",
        "    if a == 0: \r\n",
        "        return (b, 0, 1) \r\n",
        "    else: \r\n",
        "        g, y, x = extended_euclidean(b % a, a) \r\n",
        "        return (g, x - (b // a) * y, y) \r\n",
        "  \r\n",
        "# modular inverse driver function \r\n",
        "def modinv(a, m): \r\n",
        "    g, x, y = extended_euclidean(a, m) \r\n",
        "    return x % m \r\n",
        "  \r\n",
        "# function implementing Chinese remainder theorem \r\n",
        "# list m contains all the modulii \r\n",
        "# list x contains the remainders of the equations \r\n",
        "def crt(m, x): \r\n",
        "  \r\n",
        "    # We run this loop while the list of \r\n",
        "    # remainders has length greater than 1 \r\n",
        "    while True: \r\n",
        "          \r\n",
        "        # temp1 will contain the new value  \r\n",
        "        # of A. which is calculated according  \r\n",
        "        # to the equation m1' * m1 * x0 + m0' \r\n",
        "        # * m0 * x1 \r\n",
        "        temp1 = modinv(m[1],m[0]) * x[0] * m[1] + modinv(m[0],m[1]) * x[1] * m[0] \r\n",
        "  \r\n",
        "        # temp2 contains the value of the modulus \r\n",
        "        # in the new equation, which will be the  \r\n",
        "        # product of the modulii of the two \r\n",
        "        # equations that we are combining \r\n",
        "        temp2 = m[0] * m[1] \r\n",
        "  \r\n",
        "        # we then remove the first two elements \r\n",
        "        # from the list of remainders, and replace \r\n",
        "        # it with the remainder value, which will \r\n",
        "        # be temp1 % temp2 \r\n",
        "        x.remove(x[0]) \r\n",
        "        x.remove(x[0]) \r\n",
        "        x = [temp1 % temp2] + x  \r\n",
        "  \r\n",
        "        # we then remove the first two values from \r\n",
        "        # the list of modulii as we no longer require \r\n",
        "        # them and simply replace them with the new  \r\n",
        "        # modulii that  we calculated \r\n",
        "        m.remove(m[0]) \r\n",
        "        m.remove(m[0]) \r\n",
        "        m = [temp2] + m \r\n",
        "  \r\n",
        "        # once the list has only one element left, \r\n",
        "        # we can break as it will only  contain  \r\n",
        "        # the value of our final remainder \r\n",
        "        if len(x) == 1: \r\n",
        "            break\r\n",
        "  \r\n",
        "    # returns the remainder of the final equation \r\n",
        "    return x[0] \r\n",
        "  \r\n",
        "# driver segment \r\n",
        "m = [1105, 1729, 2465, 2821] \r\n",
        "x = [3, 4, 1, 0] \r\n",
        "print(crt(m, x))"
      ],
      "execution_count": 28,
      "outputs": [
        {
          "output_type": "stream",
          "text": [
            "4103990532005\n"
          ],
          "name": "stdout"
        }
      ]
    },
    {
      "cell_type": "code",
      "metadata": {
        "id": "vN7y3Itrdq54"
      },
      "source": [
        "# A Python3 program to demonstrate \r\n",
        "# working of Chinise remainder Theorem\r\n",
        " \r\n",
        "# k is size of num[] and rem[]. \r\n",
        "# Returns the smallest number x \r\n",
        "# such that:\r\n",
        "# x % num[0] = rem[0], \r\n",
        "# x % num[1] = rem[1], \r\n",
        "# ..................\r\n",
        "# x % num[k-2] = rem[k-1]\r\n",
        "# Assumption: Numbers in num[] \r\n",
        "# are pairwise coprime (gcd for\r\n",
        "# every pair is 1)\r\n",
        "def findMinX(num, rem, k):\r\n",
        "    x = 1; # Initialize result\r\n",
        " \r\n",
        "    # As per the Chinise remainder\r\n",
        "    # theorem, this loop will\r\n",
        "    # always break.\r\n",
        "    while(True):\r\n",
        "         \r\n",
        "        # Check if remainder of \r\n",
        "        # x % num[j] is rem[j] \r\n",
        "        # or not (for all j from \r\n",
        "        # 0 to k-1)\r\n",
        "        j = 0;\r\n",
        "        while(j < k):\r\n",
        "            if (x % num[j] != rem[j]):\r\n",
        "                break;\r\n",
        "            j += 1;\r\n",
        " \r\n",
        "        # If all remainders \r\n",
        "        # matched, we found x\r\n",
        "        if (j == k):\r\n",
        "            return x;\r\n",
        " \r\n",
        "        # Else try next numner\r\n",
        "        x += 1;\r\n",
        " \r\n",
        "# Driver Code\r\n",
        "num = [1105, 1729, 2465, 2821];\r\n",
        "rem = [2, 3, 1, 0];\r\n",
        "k = len(num);\r\n",
        "print(\"x is\", findMinX(num, rem, k));"
      ],
      "execution_count": null,
      "outputs": []
    },
    {
      "cell_type": "markdown",
      "metadata": {
        "id": "5Cgy_0B4Q2WW"
      },
      "source": [
        "## What is True?\n",
        "Assess yourself on how you did using the checkboxes below. Check a box by putting an 'X' in it only if it is warranted.\n"
      ]
    },
    {
      "cell_type": "markdown",
      "metadata": {
        "id": "81dbKwHenxnT"
      },
      "source": [
        "# TODO My Report on What I Did and What I Learned"
      ]
    },
    {
      "cell_type": "markdown",
      "metadata": {
        "id": "C8BeiIern33B"
      },
      "source": [
        "## Fun\n",
        "Replace these words with your own detailing how you had fun (if you did)."
      ]
    },
    {
      "cell_type": "markdown",
      "metadata": {
        "id": "OzOkZ3son-u9"
      },
      "source": [
        "## New\n",
        "Replace these words with your own detailing what was something new you learned (if anything)."
      ]
    },
    {
      "cell_type": "markdown",
      "metadata": {
        "id": "mJHvoj6GokaZ"
      },
      "source": [
        "## Meaningful\n",
        "Replace these words with your own detailing what you achieved that was meaningful or that you can build upon."
      ]
    },
    {
      "cell_type": "markdown",
      "metadata": {
        "id": "_RBE03fhpNUG"
      },
      "source": [
        "## Other\n",
        "Replace these words with your own describing other topics or sections of your report --- Connections, Collaborator Contributions, or anything else you feel impressed to add."
      ]
    },
    {
      "cell_type": "markdown",
      "metadata": {
        "id": "Nrk-8EmgW4NP"
      },
      "source": [
        "# TODO What is True?\n",
        "Click on each warranted checkbox to toggle it to True (or back to False). \n",
        "\n",
        "NOTE: *This only works in Colab. If you run it in some other Jupyter notebook client/server environment you may have to change False to True (or vice versa) manually.*\n",
        "\n",
        "This self-assessment is subject to revision by a grader."
      ]
    },
    {
      "cell_type": "code",
      "metadata": {
        "id": "qGAjzgVRXR4M"
      },
      "source": [
        "#@markdown ## What is True about what I did?\n",
        "#@markdown ### I had fun.\n",
        "cb00 = True #@param {type:'boolean'}\n",
        "#@markdown ### I learned something new.\n",
        "cb01 = True #@param {type:'boolean'}\n",
        "#@markdown ### I achieved something meaningful, or something I can build upon at a later time.\n",
        "cb02 = True #@param {type:'boolean'}\n",
        "#@markdown ## What is true about my report?\n",
        "#@markdown ### I wrote a sufficient number of well-written sentences.\n",
        "cb03 = True #@param {type:'boolean'}\n",
        "#@markdown ### My report is free of mechanical infelicities.\n",
        "cb04 = True #@param {type:'boolean'}\n",
        "#@markdown ### I used Grammarly (or something better described in my report) to check for MIs.\n",
        "cb05 = True #@param {type:'boolean'}\n",
        "#@markdown ### I reported on any connections I found between these problems and something I already know. \n",
        "cb06 = True #@param {type:'boolean'}\n",
        "#@markdown ### I reported who were and what contribution each of my collaborators made.\n",
        "cb07 = True #@param {type:'boolean'}\n",
        "#@markdown ## What is true about my proof?\n",
        "#@markdown ### It succinctly uses the definition of coprime.\n",
        "cb08 = True #@param {type:'boolean'}\n",
        "#@markdown ### It correctly uses the definition of coprime.\n",
        "cb09 = True #@param {type:'boolean'}\n",
        "#@markdown ### It succinctly uses a consequence of comprimality\n",
        "cb10 = True #@param {type:'boolean'}\n",
        "#@markdown ### It correctly uses a consequence of comprimality\n",
        "cb11 = True #@param {type:'boolean'}\n",
        "#@markdown ### It succinctly uses the factorization of the **bppp**,\n",
        "cb12 = True #@param {type:'boolean'}\n",
        "#@markdown ### It correctly uses the factorization of the **bppp**,\n",
        "cb13 = True #@param {type:'boolean'}\n",
        "#@markdown ### It succinctly uses Fermat's Little Theorem. \n",
        "cb14 = True #@param {type:'boolean'}\n",
        "#@markdown ### It correctly uses Fermat's Little Theorem. \n",
        "cb15 = True #@param {type:'boolean'}\n",
        "#@markdown ### It succinctly uses the Chinese Remainder Theorem.\n",
        "cb16 = True #@param {type:'boolean'}\n",
        "#@markdown ### It correctly uses the Chinese Remainder Theorem.\n",
        "cb17 = True #@param {type:'boolean'}\n",
        "\n"
      ],
      "execution_count": null,
      "outputs": []
    },
    {
      "cell_type": "markdown",
      "metadata": {
        "id": "q8KESLBANSkC"
      },
      "source": [
        "## DO NOT CHANGE ANYTHING IN THE NEXT CODE CELL!!\n",
        "### Delete this cell and the following ones before submitting your work."
      ]
    },
    {
      "cell_type": "code",
      "metadata": {
        "id": "rJ_vaL0DWwoc"
      },
      "source": [
        "points_for_what_I_did = [5]*3\n",
        "points_for_my_report = [7]*5\n",
        "points_for_my_proof = [5]*10\n",
        "points = points_for_what_I_did + points_for_my_report + points_for_my_proof\n",
        "# cb is short for checkbox\n",
        "total = sum(map(lambda n, p: p if eval(f'cb{n:02}') else 0,\n",
        "                range(len(points)), points))             \n",
        "total"
      ],
      "execution_count": null,
      "outputs": []
    },
    {
      "cell_type": "markdown",
      "metadata": {
        "id": "muxeYgQQKGEU"
      },
      "source": [
        "# For graders"
      ]
    },
    {
      "cell_type": "code",
      "metadata": {
        "id": "c0ldoieNKMTU"
      },
      "source": [
        "#@markdown ---\n",
        "number_of_MIs_found = 0 #@param {type: 'slider', min: 0, max: 5}\n",
        "#@markdown ---\n"
      ],
      "execution_count": null,
      "outputs": []
    }
  ]
}