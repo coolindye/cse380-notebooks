{
  "nbformat": 4,
  "nbformat_minor": 0,
  "metadata": {
    "colab": {
      "name": "Copy of 09_2_Ponder_and_Prove_Data_Compression.ipynb",
      "provenance": [],
      "collapsed_sections": [],
      "include_colab_link": true
    },
    "kernelspec": {
      "name": "python3",
      "display_name": "Python 3"
    }
  },
  "cells": [
    {
      "cell_type": "markdown",
      "metadata": {
        "id": "view-in-github",
        "colab_type": "text"
      },
      "source": [
        "<a href=\"https://colab.research.google.com/github/coolindye/cse380-notebooks/blob/master/Copy_of_09_2_Ponder_and_Prove_Data_Compression.ipynb\" target=\"_parent\"><img src=\"https://colab.research.google.com/assets/colab-badge.svg\" alt=\"Open In Colab\"/></a>"
      ]
    },
    {
      "cell_type": "markdown",
      "metadata": {
        "id": "1rG4k7VvQ2WT"
      },
      "source": [
        "# Ponder and Prove Data Compression\n",
        "#### Due: Saturday, 6 March 2021, 11:59 pm."
      ]
    },
    {
      "cell_type": "markdown",
      "metadata": {
        "id": "W0WxE3IAQ2WU"
      },
      "source": [
        "# TODO Explore Huffman Trees and Huffman Codes\n"
      ]
    },
    {
      "cell_type": "markdown",
      "metadata": {
        "id": "w2vby9erSjOv"
      },
      "source": [
        "Your task is examine how to compress a *special piece of information* as compactly as possible, and **calculate various compression ratios**.\n",
        "\n",
        "Recall that the **compression ratio** of a variable-length encoding like Huffman encoding is the percentage $100(f - v)/f$, where $f$ is the number of bits per symbol of the smallest **fixed**-length encoding, and $v$ is the average number of bits per symbol with the variable-length encoding.\n",
        "\n",
        "For example, if there were 9 different symbols in a message, $f=4$ is the number of bits of the smallest fixed-length encoding, because $2^3 = 8$ (not enough for $9$) and $2^4 = 16$ (enough and to spare). If the variable-length encoding of the message had $v=3.12$, the compression ratio would be $100(4 - 3.12)/4 \\approx 22\\%$.\n",
        "\n",
        "Note that calculating the average number of bits per symbol is not strictly necessary. That's because an alternate and equivalent way is to calculate $100(ft - vt)/ft$, where $ft$ is the **total** number of bits encoded with the fixed encoding, and $vt$ is the **total** number of bits encoded with the variable-length encoding.\n",
        "\n",
        "The *special piece of information* to be compressed is a list of the first ten million primes. This is a list that starts\n",
        "\n",
        "|    |\n",
        "|----|\n",
        "|  2 |\n",
        "|  3 |\n",
        "|  5 |\n",
        "|  7 |\n",
        "| 11 |\n",
        "| 13 |\n",
        "| 17 |\n",
        "| 19 |\n",
        "| 23 |\n",
        "| 29 |\n",
        "\n",
        "  and ends\n",
        "\n",
        "|           |\n",
        "|-----------|\n",
        "| 179424551 |\n",
        "| 179424571 |\n",
        "| 179424577 |\n",
        "| 179424601 |\n",
        "| 179424611 |\n",
        "| 179424617 |\n",
        "| 179424629 |\n",
        "| 179424667 |\n",
        "| 179424671 |\n",
        "| 179424673 |\n",
        "\n",
        "As ASCII text stored in a file with one prime per line, the size of this data file is slightly over 89 megabytes. The goal is to compress this down to just over 5 megabytes (5589056 bytes, to be exact). That's a 94% compression ratio!\n",
        "\n",
        "Standard compression tools can only get about a 73% compression ratio for this ASCII data. A more clever approach is needed. Instead of compressing the list of prime numbers, compress a list of the *gaps* between them!\n",
        "\n",
        "It doesn't save much, just the unique (occurring only once) gap size of 1 between 2 and 3, but in the spirit of de Polignac's conjecture that every *even* number appears infinitely often as a gap between consecutive primes, just consider the even-sized gaps. The result will be a list that starts with 2 (the difference between 5 and 3), 2 (the difference between 7 and 5), 4 (the difference between 11 and 7), 2 (the difference between 13 and 11), 4 (the difference between 17 and 13), 2 (the difference between 19 and 17), 4 (the difference between 23 and 19), and 6 (the difference between 29 and 23).\n",
        "\n",
        "Generating this data is the first task. The algorithm for doing so is very straightforward:\n",
        "\n",
        "1. Find the gaps between consecutive odd primes.\n",
        "2. Store these gaps as a list of even numbers.\n",
        "\n",
        "Tabulating the results, the first ten gaps and the last ten gaps are as follows, where the numbers after the equals signs are the gaps to list:\n",
        "\n",
        "|                 |\n",
        "|-----------------|\n",
        "|  5  -   3  =  2 |\n",
        "|  7  -   5  =  2 |\n",
        "| 11  -   7  =  4 |\n",
        "| 13  -  11  =  2 |\n",
        "| 17  -  13  =  4 |\n",
        "| 19  -  17  =  2 |\n",
        "| 23  -  19  =  4 |\n",
        "| 29  -  23  =  6 |\n",
        "| 31  -  29  =  2 |\n",
        "| 37  -  31  =  6 |\n",
        "\n",
        "|                                |\n",
        "|--------------------------------|\n",
        "| 179424551  -  179424533  =  18 |\n",
        "| 179424571  -  179424551  =  20 |\n",
        "| 179424577  -  179424571  =   6 |\n",
        "| 179424601  -  179424577  =  24 |\n",
        "| 179424611  -  179424601  =  10 |\n",
        "| 179424617  -  179424611  =   6 |\n",
        "| 179424629  -  179424617  =  12 |\n",
        "| 179424667  -  179424629  =  38 |\n",
        "| 179424671  -  179424667  =   4 |\n",
        "| 179424673  -  179424671  =   2 |\n",
        "\n",
        "As a correctness check, see if your generated list of gaps has length 9999998.\n",
        "\n",
        "The next step is to count how many times each gap size occurs, so that for the Huffman encoding scheme, the larger the frequency of occurrence, the smaller the number of bits encoding that gap size.\n",
        "\n",
        "As a correctness check, here are the first ten and the last ten gap counts:\n",
        "\n",
        "|  Gap | Count   |\n",
        "|------|---------|\n",
        "|    2 |  738597 |\n",
        "|    4 |  738717 |\n",
        "|    6 | 1297540 |\n",
        "|    8 |  566151 |\n",
        "|   10 |  729808 |\n",
        "|   12 |  920661 |\n",
        "|   14 |  503524 |\n",
        "|   16 |  371677 |\n",
        "|   18 |  667734 |\n",
        "|   20 |  354267 |\n",
        "|      |         |\n",
        "|  190 |       1 |\n",
        "|  192 |       3 |\n",
        "|  194 |       1 |\n",
        "|  196 |       1 |\n",
        "|  198 |       6 |\n",
        "|  202 |       2 |\n",
        "|  204 |       3 |\n",
        "|  210 |       4 |\n",
        "|  220 |       1 |\n",
        "|  222 |       1 |\n",
        "\n",
        "Note two things from these partial gap counts:\n",
        "\n",
        "1. Small even numbers (< 100) are well represented, larger ones (< 1000) less so.\n",
        "2. Ten million primes aren't enough to have *every* even number represented; for example, 200, 206, 208, 212, 214, 216, and 218 do not appear even once.\n"
      ]
    },
    {
      "cell_type": "markdown",
      "metadata": {
        "id": "7CUIw8_k03JJ"
      },
      "source": [
        "# TODO Determine Exact Size of Data to be Compressed\n"
      ]
    },
    {
      "cell_type": "markdown",
      "metadata": {
        "id": "wB4sXf0X09Gv"
      },
      "source": [
        "Without actually doing it, imagine creating an ASCII file containing the first ten million primes, represented in decimal, one prime per line. Calculate the size of this file, so you can show an exceptional compression ratio from it (see below).\n",
        "\n",
        "Using a binary encoding instead of ASCII, each prime requires 32 bits (4 bytes), so the size of a binary file is easily determined.\n",
        "\n",
        "Using a fixed-width encoding of the gap counts, however, requires knowing how many different gap sizes there are, after which the calculation is straightforward."
      ]
    },
    {
      "cell_type": "code",
      "metadata": {
        "colab": {
          "base_uri": "https://localhost:8080/"
        },
        "id": "KIeFDAzBMtK0",
        "outputId": "de4eed44-41f4-4154-84b0-809ee73524ab"
      },
      "source": [
        "!pip install pyprimesieve\r\n",
        "import pyprimesieve\r\n",
        "tmp = pyprimesieve.primes_nth(10000000)\r\n",
        "primes = pyprimesieve.primes(tmp+1)\r\n",
        "gaps = [*map(lambda i:primes[i]-primes[i-1],range(1,10000000))]\r\n",
        "pl=[2]\r\n",
        "[pl.append(pl[-1] + g) for g in gaps]\r\n",
        "print(pl==primes)"
      ],
      "execution_count": 1,
      "outputs": [
        {
          "output_type": "stream",
          "text": [
            "Collecting pyprimesieve\n",
            "  Downloading https://files.pythonhosted.org/packages/71/65/df0f953cfda5aa6dba56bcbeac5707f544bf0ad5b649a6a7807c5e09966e/pyprimesieve-0.1.6.tar.gz\n",
            "Building wheels for collected packages: pyprimesieve\n",
            "  Building wheel for pyprimesieve (setup.py) ... \u001b[?25l\u001b[?25hdone\n",
            "  Created wheel for pyprimesieve: filename=pyprimesieve-0.1.6-cp37-cp37m-linux_x86_64.whl size=368931 sha256=545458aad741bda266acec8adc9040a2e106aa43e7c0607db145975d77d46f90\n",
            "  Stored in directory: /root/.cache/pip/wheels/c4/63/2b/a485079de882a375d28a4dc141386c76ea9a6aaad505f2198b\n",
            "Successfully built pyprimesieve\n",
            "Installing collected packages: pyprimesieve\n",
            "Successfully installed pyprimesieve-0.1.6\n",
            "True\n"
          ],
          "name": "stdout"
        }
      ]
    },
    {
      "cell_type": "code",
      "metadata": {
        "colab": {
          "base_uri": "https://localhost:8080/"
        },
        "id": "uulrJYLJM_wD",
        "outputId": "38e89c44-b977-4c27-a78a-13060cabf902"
      },
      "source": [
        "from math import floor, log2\r\n",
        "floor(log2(max(gaps))) + 1\r\n",
        "max(gaps)"
      ],
      "execution_count": 2,
      "outputs": [
        {
          "output_type": "execute_result",
          "data": {
            "text/plain": [
              "222"
            ]
          },
          "metadata": {
            "tags": []
          },
          "execution_count": 2
        }
      ]
    },
    {
      "cell_type": "code",
      "metadata": {
        "colab": {
          "base_uri": "https://localhost:8080/"
        },
        "id": "5191UZfONCgn",
        "outputId": "47dd8ba9-4eff-4bd9-fa56-906ca0bc3180"
      },
      "source": [
        "from math import ceil\r\n",
        "ceil(log2(len(set(gaps))))\r\n",
        "# 1K = 1024 bytes, 1M = 2 ** 20\r\n",
        "2 ** 20\r\n",
        "# 93.48445"
      ],
      "execution_count": 3,
      "outputs": [
        {
          "output_type": "execute_result",
          "data": {
            "text/plain": [
              "1048576"
            ]
          },
          "metadata": {
            "tags": []
          },
          "execution_count": 3
        }
      ]
    },
    {
      "cell_type": "markdown",
      "metadata": {
        "id": "9HZChUyC09tJ"
      },
      "source": [
        "# TODO Use Functional Python\n"
      ]
    },
    {
      "cell_type": "markdown",
      "metadata": {
        "id": "j7vG1XqY1CaV"
      },
      "source": [
        "You are encouraged to use the [anytree](https://pypi.org/project/anytree) Python library, which has a nice exporter by way of which you can graphically view trees. (You may recall using this in DM1, and thus know that **anytree** depends on [graphviz](https://graphviz.org), which you also used.)\n",
        "\n",
        "This library uses the object-oriented features of Python to create and visualize trees. You are encouraged to use the functional features of Python as much as possible, achieving your results not by using some existing third-party libraries for building Huffman Trees and Codes, but writing your own code as cleanly and elegantly as you can."
      ]
    },
    {
      "cell_type": "code",
      "metadata": {
        "colab": {
          "base_uri": "https://localhost:8080/"
        },
        "id": "GklyPle4Npr2",
        "outputId": "1ef728d8-a91b-4a02-c585-c2dc9393a5d3"
      },
      "source": [
        "len(primes)"
      ],
      "execution_count": 4,
      "outputs": [
        {
          "output_type": "execute_result",
          "data": {
            "text/plain": [
              "10000000"
            ]
          },
          "metadata": {
            "tags": []
          },
          "execution_count": 4
        }
      ]
    },
    {
      "cell_type": "code",
      "metadata": {
        "id": "rCvCzDFWNwVA"
      },
      "source": [
        "from math import log10\r\n",
        "\r\n",
        "def get_num_digits(n):\r\n",
        "  return len(str(n))\r\n",
        "\r\n",
        "def get_num_digits_no_str(n):\r\n",
        "  return floor(log10(n)) + 1\r\n",
        "\r\n",
        "def get_line_size(n):\r\n",
        "  return get_num_digits_no_str(n) + 1"
      ],
      "execution_count": 5,
      "outputs": []
    },
    {
      "cell_type": "code",
      "metadata": {
        "id": "LLXJGo38NyZL"
      },
      "source": [
        "total_size_in_digits = sum(map(lambda p: get_num_digits_no_str(p), primes))"
      ],
      "execution_count": 6,
      "outputs": []
    },
    {
      "cell_type": "code",
      "metadata": {
        "colab": {
          "base_uri": "https://localhost:8080/"
        },
        "id": "ILnllujTIvDZ",
        "outputId": "f834f85e-06bc-4560-cd0d-006d378226a3"
      },
      "source": [
        "pip install anytree"
      ],
      "execution_count": 20,
      "outputs": [
        {
          "output_type": "stream",
          "text": [
            "Collecting anytree\n",
            "\u001b[?25l  Downloading https://files.pythonhosted.org/packages/a8/65/be23d8c3ecd68d40541d49812cd94ed0f3ee37eb88669ca15df0e43daed1/anytree-2.8.0-py2.py3-none-any.whl (41kB)\n",
            "\r\u001b[K     |███████▉                        | 10kB 18.5MB/s eta 0:00:01\r\u001b[K     |███████████████▊                | 20kB 14.1MB/s eta 0:00:01\r\u001b[K     |███████████████████████▋        | 30kB 12.6MB/s eta 0:00:01\r\u001b[K     |███████████████████████████████▍| 40kB 12.0MB/s eta 0:00:01\r\u001b[K     |████████████████████████████████| 51kB 4.4MB/s \n",
            "\u001b[?25hRequirement already satisfied: six>=1.9.0 in /usr/local/lib/python3.7/dist-packages (from anytree) (1.15.0)\n",
            "Installing collected packages: anytree\n",
            "Successfully installed anytree-2.8.0\n"
          ],
          "name": "stdout"
        }
      ]
    },
    {
      "cell_type": "code",
      "metadata": {
        "colab": {
          "base_uri": "https://localhost:8080/",
          "height": 163
        },
        "id": "kr2hvxYOI7Ef",
        "outputId": "b744e68a-01b6-4b8d-ecd4-5df747c843c1"
      },
      "source": [
        "from anytree import "
      ],
      "execution_count": 21,
      "outputs": [
        {
          "output_type": "error",
          "ename": "NameError",
          "evalue": "ignored",
          "traceback": [
            "\u001b[0;31m---------------------------------------------------------------------------\u001b[0m",
            "\u001b[0;31mNameError\u001b[0m                                 Traceback (most recent call last)",
            "\u001b[0;32m<ipython-input-21-6e2b8cec9aab>\u001b[0m in \u001b[0;36m<module>\u001b[0;34m()\u001b[0m\n\u001b[0;32m----> 1\u001b[0;31m \u001b[0mprint\u001b[0m\u001b[0;34m(\u001b[0m\u001b[0manytree\u001b[0m\u001b[0;34m.\u001b[0m\u001b[0mprimes\u001b[0m\u001b[0;34m)\u001b[0m\u001b[0;34m\u001b[0m\u001b[0;34m\u001b[0m\u001b[0m\n\u001b[0m",
            "\u001b[0;31mNameError\u001b[0m: name 'anytree' is not defined"
          ]
        }
      ]
    },
    {
      "cell_type": "markdown",
      "metadata": {
        "id": "TUB4mD8u1DCa"
      },
      "source": [
        "# TODO Achieve Target Compression Ratios"
      ]
    },
    {
      "cell_type": "markdown",
      "metadata": {
        "id": "8Vw71EqJ18eE"
      },
      "source": [
        "Your solution should correctly compute the following three compression ratios:\n",
        "\n",
        "| Ratio       | Value              |\n",
        "|-------------|--------------------|\n",
        "| From fixed  | 36.125168653605158 |\n",
        "| From binary |              86.03 |\n",
        "| From ASCII  |              94.02 | \n"
      ]
    },
    {
      "cell_type": "code",
      "metadata": {
        "colab": {
          "base_uri": "https://localhost:8080/"
        },
        "id": "0L9JuqiHN5WY",
        "outputId": "77df83a1-5680-47e8-b855-c7096be27b1c"
      },
      "source": [
        "total_size_in_bits = total_size_in_digits * 8\r\n",
        "(total_size_in_digits + 10 ** 7) / 2 ** 20"
      ],
      "execution_count": 7,
      "outputs": [
        {
          "output_type": "execute_result",
          "data": {
            "text/plain": [
              "89.15371894836426"
            ]
          },
          "metadata": {
            "tags": []
          },
          "execution_count": 7
        }
      ]
    },
    {
      "cell_type": "code",
      "metadata": {
        "colab": {
          "base_uri": "https://localhost:8080/",
          "height": 231
        },
        "id": "O3AGZN5iDucV",
        "outputId": "acd17e9e-793c-43e6-f1d1-fd6a4a62882a"
      },
      "source": [
        "import heapq\r\n",
        "while len(primes)>1:\r\n",
        "        left_node = heapq.heappop(primes)\r\n",
        "        right_node = heapq.heappop(primes)\r\n",
        "for _ in left_node[1]:\r\n",
        "            # Add a 0 to the encoding of all nodes on the left\r\n",
        "            key[_] = '0' + key.get(_,\"\")\r\n",
        "for _ in right_node[1]:\r\n",
        "            # Add a 1 to the encoding of all nodes on the right\r\n",
        "            key[_]= '1' + key.get(_,\"\")\r\n",
        "# Join both as one node and push to tree\r\n",
        "            heapq.heappush(primes(left_node[0]+right_node[0],left_node[1]+right_node[1]))\r\n",
        "for x in key:\r\n",
        "        print(x,key[x])\r\n",
        "rem = len(encoded)%8\r\n",
        "key['rem'] = rem\r\n",
        "encoded+='0'*rem\r\n",
        "return encoded"
      ],
      "execution_count": 14,
      "outputs": [
        {
          "output_type": "error",
          "ename": "TypeError",
          "evalue": "ignored",
          "traceback": [
            "\u001b[0;31m---------------------------------------------------------------------------\u001b[0m",
            "\u001b[0;31mTypeError\u001b[0m                                 Traceback (most recent call last)",
            "\u001b[0;32m<ipython-input-14-585b400203d9>\u001b[0m in \u001b[0;36m<module>\u001b[0;34m()\u001b[0m\n\u001b[1;32m      3\u001b[0m         \u001b[0mleft_node\u001b[0m \u001b[0;34m=\u001b[0m \u001b[0mheapq\u001b[0m\u001b[0;34m.\u001b[0m\u001b[0mheappop\u001b[0m\u001b[0;34m(\u001b[0m\u001b[0mprimes\u001b[0m\u001b[0;34m)\u001b[0m\u001b[0;34m\u001b[0m\u001b[0;34m\u001b[0m\u001b[0m\n\u001b[1;32m      4\u001b[0m         \u001b[0mright_node\u001b[0m \u001b[0;34m=\u001b[0m \u001b[0mheapq\u001b[0m\u001b[0;34m.\u001b[0m\u001b[0mheappop\u001b[0m\u001b[0;34m(\u001b[0m\u001b[0mprimes\u001b[0m\u001b[0;34m)\u001b[0m\u001b[0;34m\u001b[0m\u001b[0;34m\u001b[0m\u001b[0m\n\u001b[0;32m----> 5\u001b[0;31m \u001b[0;32mfor\u001b[0m \u001b[0m_\u001b[0m \u001b[0;32min\u001b[0m \u001b[0mleft_node\u001b[0m\u001b[0;34m[\u001b[0m\u001b[0;36m1\u001b[0m\u001b[0;34m]\u001b[0m\u001b[0;34m:\u001b[0m\u001b[0;34m\u001b[0m\u001b[0;34m\u001b[0m\u001b[0m\n\u001b[0m\u001b[1;32m      6\u001b[0m             \u001b[0;31m# Add a 0 to the encoding of all nodes on the left\u001b[0m\u001b[0;34m\u001b[0m\u001b[0;34m\u001b[0m\u001b[0;34m\u001b[0m\u001b[0m\n\u001b[1;32m      7\u001b[0m             \u001b[0mkey\u001b[0m\u001b[0;34m[\u001b[0m\u001b[0m_\u001b[0m\u001b[0;34m]\u001b[0m \u001b[0;34m=\u001b[0m \u001b[0;34m'0'\u001b[0m \u001b[0;34m+\u001b[0m \u001b[0mkey\u001b[0m\u001b[0;34m.\u001b[0m\u001b[0mget\u001b[0m\u001b[0;34m(\u001b[0m\u001b[0m_\u001b[0m\u001b[0;34m,\u001b[0m\u001b[0;34m\"\"\u001b[0m\u001b[0;34m)\u001b[0m\u001b[0;34m\u001b[0m\u001b[0;34m\u001b[0m\u001b[0m\n",
            "\u001b[0;31mTypeError\u001b[0m: 'int' object is not subscriptable"
          ]
        }
      ]
    },
    {
      "cell_type": "code",
      "metadata": {
        "colab": {
          "base_uri": "https://localhost:8080/"
        },
        "id": "6q3GqUZRH78l",
        "outputId": "d3354c10-8193-4cce-bdba-8357e192a379"
      },
      "source": [
        "pip install huffman"
      ],
      "execution_count": 16,
      "outputs": [
        {
          "output_type": "stream",
          "text": [
            "Collecting huffman\n",
            "  Downloading https://files.pythonhosted.org/packages/c5/72/99cf86630e26a02f2ee6ab649465fce7af7723635902cd79af91f6cc60e5/huffman-0.1.2-py2.py3-none-any.whl\n",
            "Installing collected packages: huffman\n",
            "Successfully installed huffman-0.1.2\n"
          ],
          "name": "stdout"
        }
      ]
    },
    {
      "cell_type": "code",
      "metadata": {
        "colab": {
          "base_uri": "https://localhost:8080/",
          "height": 197
        },
        "id": "VUHY_ipBHvT3",
        "outputId": "8b3a93b4-d3a0-46dd-b620-24de39f8ad07"
      },
      "source": [
        "import huffman \r\n",
        "\r\n",
        "print(huffman.compression(primes))\r\n"
      ],
      "execution_count": 17,
      "outputs": [
        {
          "output_type": "error",
          "ename": "AttributeError",
          "evalue": "ignored",
          "traceback": [
            "\u001b[0;31m---------------------------------------------------------------------------\u001b[0m",
            "\u001b[0;31mAttributeError\u001b[0m                            Traceback (most recent call last)",
            "\u001b[0;32m<ipython-input-17-50da23e5fa72>\u001b[0m in \u001b[0;36m<module>\u001b[0;34m()\u001b[0m\n\u001b[1;32m      1\u001b[0m \u001b[0;32mimport\u001b[0m \u001b[0mhuffman\u001b[0m\u001b[0;34m\u001b[0m\u001b[0;34m\u001b[0m\u001b[0m\n\u001b[1;32m      2\u001b[0m \u001b[0;34m\u001b[0m\u001b[0m\n\u001b[0;32m----> 3\u001b[0;31m \u001b[0mprint\u001b[0m\u001b[0;34m(\u001b[0m\u001b[0mhuffman\u001b[0m\u001b[0;34m.\u001b[0m\u001b[0mcompression\u001b[0m\u001b[0;34m(\u001b[0m\u001b[0mprimes\u001b[0m\u001b[0;34m)\u001b[0m\u001b[0;34m)\u001b[0m\u001b[0;34m\u001b[0m\u001b[0;34m\u001b[0m\u001b[0m\n\u001b[0m",
            "\u001b[0;31mAttributeError\u001b[0m: module 'huffman' has no attribute 'compression'"
          ]
        }
      ]
    },
    {
      "cell_type": "markdown",
      "metadata": {
        "id": "81dbKwHenxnT"
      },
      "source": [
        "# TODO My Report on What I Did and What I Learned"
      ]
    },
    {
      "cell_type": "markdown",
      "metadata": {
        "id": "TZHojPOkJYqB"
      },
      "source": [
        "Well I hit some walls unfortunately but I was able to successfully get the correct ASCII size compression rate. \r\n",
        "\r\n",
        "I learned alot about the use of various imports in constructing trees for python and the majority of them are used to construct trees and binary equivalence based on the frequency of a char within a given string."
      ]
    },
    {
      "cell_type": "markdown",
      "metadata": {
        "id": "C8BeiIern33B"
      },
      "source": [
        "## Fun\n"
      ]
    },
    {
      "cell_type": "markdown",
      "metadata": {
        "id": "ElukRLoezyxd"
      },
      "source": [
        "I actually did have fun explloring and learning how to use python more these resources were my favorite.\r\n",
        "\r\n",
        "https://anytree.readthedocs.io/en/latest/\r\n",
        "\r\n",
        "https://stackoverflow.com/questions/65375575/findall-search-functionality-in-python-library-anytree-returns-nameerror-f\r\n",
        "\r\n"
      ]
    },
    {
      "cell_type": "markdown",
      "metadata": {
        "id": "OzOkZ3son-u9"
      },
      "source": [
        "## New"
      ]
    },
    {
      "cell_type": "markdown",
      "metadata": {
        "id": "3-nYIdEUz4x5"
      },
      "source": [
        "I learned that the ZIP compresssion utilizes huffman encoding and compression.\r\n",
        "\r\n",
        "https://stackoverflow.com/questions/2199383/what-are-the-real-world-applications-of-huffman-coding#:~:text=There%20are%20quite%20a%20lot,month%20also%20uses%20Huffman%20Coding\r\n"
      ]
    },
    {
      "cell_type": "markdown",
      "metadata": {
        "id": "mJHvoj6GokaZ"
      },
      "source": [
        "## Meaningful\n"
      ]
    },
    {
      "cell_type": "markdown",
      "metadata": {
        "id": "XOxh3XFTz-6N"
      },
      "source": [
        "I learned that Huffman Encoding is popular because of its efficiency and simplicity.\r\n",
        "\r\n",
        "https://brilliant.org/wiki/huffman-encoding/#:~:text=Huffman%20coding%20provides%20an%20efficient,be%20encoded%20as%20longer%20strings."
      ]
    },
    {
      "cell_type": "markdown",
      "metadata": {
        "id": "_RBE03fhpNUG"
      },
      "source": [
        "## Other"
      ]
    },
    {
      "cell_type": "markdown",
      "metadata": {
        "id": "d-sXEeq60C3W"
      },
      "source": [
        "![ww8sk.jpg](data:image/jpeg;base64,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)"
      ]
    },
    {
      "cell_type": "markdown",
      "metadata": {
        "id": "Nrk-8EmgW4NP"
      },
      "source": [
        "# TODO What is True?\n",
        "Click on each warranted checkbox to toggle it to True (or back to False). \n",
        "\n",
        "NOTE: *This only works in Colab. If you run it in some other Jupyter notebook client/server environment you may have to change False to True (or vice versa) manually.*\n",
        "\n",
        "This self-assessment is subject to revision by a grader."
      ]
    },
    {
      "cell_type": "code",
      "metadata": {
        "id": "qGAjzgVRXR4M"
      },
      "source": [
        "#@markdown ## What is True about what I did?\n",
        "#@markdown ### I had fun.\n",
        "cb00 = True #@param {type:'boolean'}\n",
        "#@markdown ### I learned something new.\n",
        "cb01 = True #@param {type:'boolean'}\n",
        "#@markdown ### I achieved something meaningful, or something I can build upon at a later time.\n",
        "cb02 = True #@param {type:'boolean'}\n",
        "#@markdown ## What is True about my report?\n",
        "#@markdown ### I wrote a sufficient number of well-written sentences.\n",
        "cb03 = True #@param {type:'boolean'}\n",
        "#@markdown ### My report is free of mechanical infelicities.\n",
        "cb04 = True #@param {type:'boolean'}\n",
        "#@markdown ### I used Grammarly (or something better described in my report) to check for MIs.\n",
        "cb05 = True #@param {type:'boolean'}\n",
        "#@markdown ### I reported on any connections I found between these problems and something I already know. \n",
        "cb06 = True #@param {type:'boolean'}\n",
        "#@markdown ### I reported who were and what contribution each of my collaborators made.\n",
        "cb07 = True #@param {type:'boolean'}\n",
        "#@markdown ## What is True about my calculations?\n",
        "#@markdown ### I correctly calculated the number of times each gap size occurs. \n",
        "cb08 = True #@param {type:'boolean'}\n",
        "#@markdown ### I correctly calculated the number of bits per gap size with a fixed encoding.\n",
        "cb09 = True #@param {type:'boolean'}\n",
        "#@markdown ### I correctly calculated the total number of bits encoded with the Huffman encoding.\n",
        "cb10 = True #@param {type:'boolean'}\n",
        "#@markdown ### I correctly calculated the total number of bits encoded with the fixed encoding.\n",
        "cb11 = True #@param {type:'boolean'}\n",
        "#@markdown ### I correctly calculated the compression ratio from this fixed encoding.\n",
        "cb12 = True #@param {type:'boolean'}\n",
        "#@markdown ### I correctly calculated the size of the first ten million primes encoded as 32-bit integer binary data.\n",
        "cb13 = False #@param {type:'boolean'}\n",
        "#@markdown ### I correctly calculated the compression ratio from the binary size.\n",
        "cb14 = False #@param {type:'boolean'}\n",
        "#@markdown ### I correctly calculated the size of the first ten million primes encoded as ASCII data.\n",
        "cb15 = True #@param {type:'boolean'}\n",
        "#@markdown ### I correctly calculated the compression ratio from the ASCII size (just the primes, nothing else).\n",
        "cb16 = True #@param {type:'boolean'}"
      ],
      "execution_count": null,
      "outputs": []
    },
    {
      "cell_type": "markdown",
      "metadata": {
        "id": "q8KESLBANSkC"
      },
      "source": [
        "## DO NOT CHANGE ANYTHING IN THE NEXT CODE CELL!!\n",
        "### Delete this cell and the following ones before submitting your work."
      ]
    },
    {
      "cell_type": "code",
      "metadata": {
        "id": "rJ_vaL0DWwoc"
      },
      "source": [
        "points_for_what_I_did = [5]*3\n",
        "points_for_my_report = [8]*5\n",
        "points_for_my_calculations = [5]*9\n",
        "points = points_for_what_I_did + points_for_my_report + points_for_my_calculations\n",
        "# cb is short for checkbox\n",
        "total = sum(map(lambda n, p: p if eval(f'cb{n:02}') else 0,\n",
        "                range(len(points)), points))             \n",
        "total"
      ],
      "execution_count": null,
      "outputs": []
    },
    {
      "cell_type": "markdown",
      "metadata": {
        "id": "muxeYgQQKGEU"
      },
      "source": [
        "# For graders"
      ]
    },
    {
      "cell_type": "code",
      "metadata": {
        "id": "c0ldoieNKMTU"
      },
      "source": [
        "#@markdown ---\n",
        "number_of_MIs_found = 0 #@param {type: 'slider', min: 0, max: 5}\n",
        "#@markdown ---\n"
      ],
      "execution_count": null,
      "outputs": []
    }
  ]
}