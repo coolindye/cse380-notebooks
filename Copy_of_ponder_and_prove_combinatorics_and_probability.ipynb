{
  "nbformat": 4,
  "nbformat_minor": 0,
  "metadata": {
    "kernelspec": {
      "display_name": "Python 3",
      "language": "python",
      "name": "python3"
    },
    "language_info": {
      "codemirror_mode": {
        "name": "ipython",
        "version": 3
      },
      "file_extension": ".py",
      "mimetype": "text/x-python",
      "name": "python",
      "nbconvert_exporter": "python",
      "pygments_lexer": "ipython3",
      "version": "3.9.0"
    },
    "colab": {
      "name": "Copy of ponder_and_prove_combinatorics_and_probability.ipynb",
      "provenance": [],
      "include_colab_link": true
    }
  },
  "cells": [
    {
      "cell_type": "markdown",
      "metadata": {
        "id": "view-in-github",
        "colab_type": "text"
      },
      "source": [
        "<a href=\"https://colab.research.google.com/github/coolindye/cse380-notebooks/blob/master/Copy_of_ponder_and_prove_combinatorics_and_probability.ipynb\" target=\"_parent\"><img src=\"https://colab.research.google.com/assets/colab-badge.svg\" alt=\"Open In Colab\"/></a>"
      ]
    },
    {
      "cell_type": "markdown",
      "metadata": {
        "id": "lf8xoYFRkVyM"
      },
      "source": [
        "# Ponder and Prove Combinatorics and Probability\n",
        "#### Due: Saturday, 6 February 2021, 11:59 pm."
      ]
    },
    {
      "cell_type": "markdown",
      "metadata": {
        "id": "ae7BOePSkVyR"
      },
      "source": [
        "## Conjecture\n",
        "\n",
        "A number-theoretic conjecture of combinatorial significance is the following:\n",
        "\n",
        "$degree2({2n \\choose n}) =$ the \"bits-on count\" (or population count, or Hamming weight) of $n$.\n",
        "\n",
        "$degree2(m)$ is defined as the number (degree, exponent) of 2's in the prime factorization of $m$.\n",
        "\n",
        "In other words, for any $m$, a positive integer, $m = 2^e \\cdot o$ where $o$ is an odd positive integer (could be 1) and $e$ is a natural number, including zero --- which would be the case when $m$ is odd. It's the $e$ that is the $degree2$ of $m$.\n",
        "\n",
        "Another way to state this conjecture is that the number of 1's in the binary expansion of ${2n \\choose n}$ for positive integer $n$ is equal to the number of 2's in the prime factorization of $n$.\n",
        "\n",
        "Your task is to write Python code to test this conjecture for as many positive integers as you can. See the self-assessment for more details.\n",
        "\n",
        "Note: a `bitsoncount` function can be a one-liner in Python: `return bin(x).count('1')`\n",
        "\n"
      ]
    },
    {
      "cell_type": "code",
      "metadata": {
        "id": "xztyYClGkjG3"
      },
      "source": [
        "def bitsoncount(x):\r\n",
        "  return bin(x).count(1)\r\n",
        "\r\n",
        "def test_conjecture(n):\r\n",
        "  return bitsoncount(n) == 1"
      ],
      "execution_count": null,
      "outputs": []
    },
    {
      "cell_type": "code",
      "metadata": {
        "id": "Ngah-Td1ZKpS"
      },
      "source": [
        "##def get_bit_count(value):\r\n",
        "##   n = 0\r\n",
        "##   while value:\r\n",
        "##      n += 1\r\n",
        "##      value &= value-1\r\n",
        "##   return n"
      ],
      "execution_count": null,
      "outputs": []
    },
    {
      "cell_type": "code",
      "metadata": {
        "id": "IL_ssyDvZuNp"
      },
      "source": [
        "def bin(n):\r\n",
        "    count=0\r\n",
        "    while(n>=1):\r\n",
        "        if(n%2==0):\r\n",
        "            n=n//2\r\n",
        "        else:\r\n",
        "            count+=1\r\n",
        "            n=n//2\r\n",
        "    print(\"Count of set bits:\",count)\r\n",
        "\r\n",
        "num=int(input(\"Enter number: \"))\r\n",
        "bin(num)"
      ],
      "execution_count": null,
      "outputs": []
    },
    {
      "cell_type": "code",
      "metadata": {
        "id": "i8yOC7kwkpbt"
      },
      "source": [
        "%time test_conjecture(999999)\r\n",
        "# Could work this ( str to int error )"
      ],
      "execution_count": null,
      "outputs": []
    },
    {
      "cell_type": "code",
      "metadata": {
        "id": "azZBf8d1k44v"
      },
      "source": [
        "n = 1\r\n",
        "while test_conjecture(n):\r\n",
        "  n += 1"
      ],
      "execution_count": null,
      "outputs": []
    },
    {
      "cell_type": "code",
      "metadata": {
        "id": "QlpQk3Spk6AP"
      },
      "source": [
        "while True: pass"
      ],
      "execution_count": null,
      "outputs": []
    },
    {
      "cell_type": "markdown",
      "metadata": {
        "id": "8h4dIihswsC8"
      },
      "source": [
        "## How do I interrupt a long-running cell?"
      ]
    },
    {
      "cell_type": "code",
      "metadata": {
        "id": "PWP-ZIuTlGjl"
      },
      "source": [
        "import datetime\r\n",
        "\r\n",
        "n = 1\r\n",
        "try:\r\n",
        "  while test_conjecture(n):\r\n",
        "    n += 1\r\n",
        "except:\r\n",
        "  print('Verified up to ' + str(n) + ' at ' + str(datetime.datetime.now()))"
      ],
      "execution_count": null,
      "outputs": []
    },
    {
      "cell_type": "code",
      "metadata": {
        "id": "5polX3-ylINu"
      },
      "source": [
        "n"
      ],
      "execution_count": null,
      "outputs": []
    },
    {
      "cell_type": "markdown",
      "metadata": {
        "id": "FqXaHkktkVyS"
      },
      "source": [
        "## Basic Probability Theory Question\n",
        "A dark room contains two barrels. The first barrel is filled with green marbles, the second is filled with a half-and-half mixture of green and blue marbles. So there's a 100% chance of choosing a green marble from the first barrel, and a 50% chance of choosing either color in the second barrel. You reach into one of the barrels (it's dark so you don't know which one) and select a marble at random. It's green. You select another. It's green too. You select a third, a fourth, a fifth, etc. Green each time. What is the *minimum* number of marbles you need to select to *exceed* a probability of 99% that you are picking them out of the all-green barrel? (Note that there are enough marbles so that the answer does not depend on how many marbles are in the second barrel.)\n"
      ]
    },
    {
      "cell_type": "code",
      "metadata": {
        "id": "ZFlHY0FslN2c",
        "colab": {
          "base_uri": "https://localhost:8080/"
        },
        "outputId": "bf7cac07-6c64-4731-b132-ea4111f4d191"
      },
      "source": [
        "import math\r\n",
        "\r\n",
        "def binom(n, k):\r\n",
        "    return math.factorial(n) // math.factorial(k) // math.factorial(n - k)\r\n",
        "print(binom(150,100))"
      ],
      "execution_count": 28,
      "outputs": [
        {
          "output_type": "stream",
          "text": [
            "20128660909731932294240234380929315748140\n"
          ],
          "name": "stdout"
        }
      ]
    },
    {
      "cell_type": "code",
      "metadata": {
        "colab": {
          "base_uri": "https://localhost:8080/"
        },
        "id": "BRkTFmMgmj7u",
        "outputId": "71fb3eac-8c1b-413a-e299-7317f74e526f"
      },
      "source": [
        "import math\r\n",
        "\r\n",
        "def binom(n, k):\r\n",
        "    return math.factorial(n) // math.factorial(k) // math.factorial(n - k)\r\n",
        "print(binom(15,10))"
      ],
      "execution_count": 29,
      "outputs": [
        {
          "output_type": "stream",
          "text": [
            "3003\n"
          ],
          "name": "stdout"
        }
      ]
    },
    {
      "cell_type": "markdown",
      "metadata": {
        "id": "eJCld-pnmsTi"
      },
      "source": [
        "I feel like the number of marbles is entirely contained is entirely relevant to calculating this. In terms of percentage you would have to select 97% of the marbles in order to have a 99% probability of the next selection being from the all green buchet."
      ]
    },
    {
      "cell_type": "markdown",
      "metadata": {
        "id": "jYdZ1_cIkVyS"
      },
      "source": [
        "## A Related But Deeper Basic Probability Theory Question\n",
        "Take a deep breath. Suppose Shakespeare's account is accurate and Julius Caesar gasped \"You too, Brutus\" before breathing his last. What is the probability that you just inhaled a molecule that Julius Caesar exhaled in his dying breath?\n",
        "\n",
        "Assume that after more than two thousand years the exhaled molecules are uniformly spread about the world and the vast majority are still free in the atmosphere. Assume further that there are $10^{44}$ molecules of air in the world, and that your inhaled quantity and Caesar's exhaled quantity were each about $2.2 \\times 10^{22}$ molecules.\n",
        "### Hint\n",
        "If a number $x$ is small, then $(1 - x)$ is approximately equal to $e^{-x}$.\n"
      ]
    },
    {
      "cell_type": "markdown",
      "metadata": {
        "id": "TnBV-U2spnt7"
      },
      "source": [
        "![percent.png](data:image/png;base64,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)"
      ]
    },
    {
      "cell_type": "markdown",
      "metadata": {
        "id": "TLAwkDXAp5Hx"
      },
      "source": [
        "The answer displayed above would be a very small percentage chance that I would inhale the same molecules."
      ]
    },
    {
      "cell_type": "markdown",
      "metadata": {
        "id": "hLjPS8dLkVyS"
      },
      "source": [
        "## What is True?\n",
        "Assess yourself on how you did using the checkboxes below. Check a box by putting an 'X' in it only if it is warranted.\n"
      ]
    },
    {
      "cell_type": "markdown",
      "metadata": {
        "id": "v7HmUBWkkVyT"
      },
      "source": [
        "### What is true of my experience in general?\n",
        "(5 points each, 15 points total)\n",
        "- [X] I had fun.\n",
        "- [X] I learned something new.\n",
        "- [X] I achieved something meaningful, or something I can build upon at a later time."
      ]
    },
    {
      "cell_type": "markdown",
      "metadata": {
        "id": "MmttK-pflSso"
      },
      "source": [
        ""
      ]
    },
    {
      "cell_type": "markdown",
      "metadata": {
        "id": "1AgmZPfZkVyT"
      },
      "source": [
        "### What is true of my report on what I learned?\n",
        "(5 points each, 25 points total)\n",
        "- [X] I wrote a sufficient number of well-written sentences.\n",
        "- [X] My report is free of \"mechanical infelicities\" (misspelled words, grammatical errors, punctuation errors, etc.).\n",
        "- [X] I reported on any connections I found between this investigation and something I already know.\n",
        "- [X] I reported who were and what contribution each of my collaborators made.\n",
        "- [ ] I reported on how many numbers I was able to verify with a time/computation budget of 24 hours (in a row).\n"
      ]
    },
    {
      "cell_type": "markdown",
      "metadata": {
        "id": "v0lzQ3TkkVyT"
      },
      "source": [
        "### What is true about my answers?\n",
        "(15 points each, 60 points total)\n",
        "- [ ] I figured out how to run a Python program continuously for at least 24 hours.\n",
        "- [ ] I refrained from printing out anything except the highest number I verified, knowing that printing just slows a program down.\n",
        "- [X] I got the right answer for the first probability theory question.\n",
        "- [X] I got the right answer for the second probability theory question.\n"
      ]
    },
    {
      "cell_type": "code",
      "metadata": {
        "id": "1-Z8x9z7kVyU"
      },
      "source": [
        ""
      ],
      "execution_count": null,
      "outputs": []
    }
  ]
}